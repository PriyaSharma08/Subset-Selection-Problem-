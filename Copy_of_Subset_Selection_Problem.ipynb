{
  "nbformat": 4,
  "nbformat_minor": 0,
  "metadata": {
    "colab": {
      "provenance": [],
      "include_colab_link": true
    },
    "kernelspec": {
      "display_name": "Python 3",
      "language": "python",
      "name": "python3"
    },
    "language_info": {
      "codemirror_mode": {
        "name": "ipython",
        "version": 3
      },
      "file_extension": ".py",
      "mimetype": "text/x-python",
      "name": "python",
      "nbconvert_exporter": "python",
      "pygments_lexer": "ipython3",
      "version": "3.8.5"
    }
  },
  "cells": [
    {
      "cell_type": "markdown",
      "metadata": {
        "id": "view-in-github",
        "colab_type": "text"
      },
      "source": [
        "<a href=\"https://colab.research.google.com/github/PriyaSharma08/Subset-Selection-Problem-/blob/main/Copy_of_Subset_Selection_Problem.ipynb\" target=\"_parent\"><img src=\"https://colab.research.google.com/assets/colab-badge.svg\" alt=\"Open In Colab\"/></a>"
      ]
    },
    {
      "cell_type": "markdown",
      "metadata": {
        "id": "7nQSRI4Dim1Y"
      },
      "source": [
        "  ---\n",
        "# **Subset Selection Problem**\n",
        "---\n",
        "####**1. Problem Statement:**\n",
        "Find all the subsets from a set of numbers whose sum is zero.\n",
        "\n",
        "####**Constraint: Subset size must be 5**\n",
        "Set={-12, -3, -6, 7, 2, -2, 6, 3, 9, -7, -5, -8, 1, 11, -9, -4}\n",
        "\n",
        "---"
      ]
    },
    {
      "cell_type": "markdown",
      "metadata": {
        "id": "A30y-VtNim1h"
      },
      "source": [
        "### **1.1 Library inclusion**"
      ]
    },
    {
      "cell_type": "code",
      "metadata": {
        "id": "cF_mSA9Xim1j"
      },
      "source": [
        "import random as r"
      ],
      "execution_count": null,
      "outputs": []
    },
    {
      "cell_type": "markdown",
      "metadata": {
        "id": "UjvBYy0Lim1m"
      },
      "source": [
        "### **1.2 Parameter Setting**"
      ]
    },
    {
      "cell_type": "code",
      "metadata": {
        "id": "NHB2KMhZim1o"
      },
      "source": [
        "Set         = set([-12, -3, -6, 7, 2, -2, 6, 3, 9, -7, -5, -8, 1, 11, -9, -4])\n",
        "SetSize     = 5\n",
        "ResultList  = set()    # Store Result List i.e. list of sets whose sum is zero\n",
        "Iterations  = 1000    # Number of Inerations"
      ],
      "execution_count": null,
      "outputs": []
    },
    {
      "cell_type": "markdown",
      "metadata": {
        "id": "BTLd3s--im1c"
      },
      "source": [
        "### **1.3 Start Program**\n",
        "\n",
        "\n"
      ]
    },
    {
      "cell_type": "code",
      "metadata": {
        "id": "veBU-f21im1x"
      },
      "source": [
        "# Loop till number of Iterations\n",
        "for i in range(Iterations):\n",
        "    # Select number of elements from Set\n",
        "    Chromosome = r.sample(Set,SetSize)\n",
        "\n",
        "    # Sum the number of elements in the Chromosome\n",
        "    if sum(Chromosome) == 0:\n",
        "        ResultList.add(tuple(Chromosome))"
      ],
      "execution_count": null,
      "outputs": []
    },
    {
      "cell_type": "markdown",
      "metadata": {
        "id": "nRWYsJNVim1z"
      },
      "source": [
        "### **1.4 Print the sets and total count**\n"
      ]
    },
    {
      "cell_type": "code",
      "metadata": {
        "colab": {
          "base_uri": "https://localhost:8080/"
        },
        "id": "41abL1k-im10",
        "scrolled": true,
        "outputId": "a0e691c5-d0e5-4608-af58-1783264ae568"
      },
      "source": [
        "# Print all the sets whose sum is zero\n",
        "for r in ResultList:\n",
        "\tprint (r)\n",
        "\n",
        "# Print total sets\n",
        "print (\"\\nTotal Sets: \", len(ResultList), \"\\n\")"
      ],
      "execution_count": null,
      "outputs": [
        {
          "output_type": "stream",
          "name": "stdout",
          "text": [
            "(6, 2, 3, -5, -6)\n",
            "(-3, 9, -5, -8, 7)\n",
            "(-12, 7, -7, 1, 11)\n",
            "(6, 9, -9, -4, -2)\n",
            "(6, -7, -2, 11, -8)\n",
            "(7, -3, 9, -8, -5)\n",
            "(6, 7, -5, 1, -9)\n",
            "(7, 3, 2, -5, -7)\n",
            "(7, 9, -5, -3, -8)\n",
            "(2, -12, 11, 1, -2)\n",
            "(-5, 7, 3, -6, 1)\n",
            "(2, -6, 7, 9, -12)\n",
            "(-9, -4, -3, 7, 9)\n",
            "(11, -3, 9, -9, -8)\n",
            "(9, 1, -5, -3, -2)\n",
            "(11, -5, -3, -4, 1)\n",
            "(-3, 7, -6, -9, 11)\n",
            "(-12, -3, -5, 11, 9)\n",
            "(-3, -8, 11, 2, -2)\n",
            "(11, -9, -5, -4, 7)\n",
            "(1, -9, 9, 2, -3)\n",
            "(6, -12, -2, 11, -3)\n",
            "(-6, 7, -7, -5, 11)\n",
            "(9, -6, 7, -3, -7)\n",
            "(6, 7, -4, -3, -6)\n",
            "(6, 9, -4, -3, -8)\n",
            "(2, 6, -12, -3, 7)\n",
            "(2, -7, 7, 1, -3)\n",
            "(2, 6, -3, -12, 7)\n",
            "(-6, 7, -2, 6, -5)\n",
            "(2, 1, 9, -8, -4)\n",
            "\n",
            "Total Sets:  31 \n",
            "\n"
          ]
        }
      ]
    },
    {
      "cell_type": "markdown",
      "metadata": {
        "id": "E3BNV7YLim12"
      },
      "source": [
        "---\n",
        "### **1.5 Complete Program**\n",
        "---"
      ]
    },
    {
      "cell_type": "code",
      "metadata": {
        "colab": {
          "base_uri": "https://localhost:8080/"
        },
        "id": "c6KthRB9im14",
        "outputId": "331983c2-65c1-4033-e18b-0966276e7523"
      },
      "source": [
        "#-------------------------------------------------------------\n",
        "# Step 1: Library inclusion\n",
        "#-------------------------------------------------------------\n",
        "import random as r\n",
        "\n",
        "\n",
        "#-------------------------------------------------------------\n",
        "# Step 2: Parameter Setting\n",
        "#-------------------------------------------------------------\n",
        "Set         = set([-12, -3, -6, 7, 2, -2, 6, 3, 9, -7, -5, -8, 1, 11, -9, -4])\n",
        "SetSize     = 5\n",
        "ResultList  = set()    # Store Result List i.e. list of sets whose sum is zero\n",
        "Iterations  = 1000   # Number of Inerations\n",
        "\n",
        "\n",
        "#-------------------------------------------------------------\n",
        "# Step3: Start Program\n",
        "#-------------------------------------------------------------\n",
        "\n",
        "# Loop till number of Iterations\n",
        "for i in range(Iterations):\n",
        "    # Select number of elements from Set\n",
        "    Chromosome = r.sample(Set,SetSize)\n",
        "\n",
        "    # Sum the number of elements in the Chromosome\n",
        "    if sum(Chromosome) == 0:\n",
        "        ResultList.add(tuple(Chromosome))\n",
        "\n",
        "# Print all the sets whose sum is zero\n",
        "for r in ResultList:\n",
        "\tprint (r)\n",
        "\n",
        "# Print total sets\n",
        "print (\"\\nTotal Sets: \", len(ResultList))\n"
      ],
      "execution_count": null,
      "outputs": [
        {
          "output_type": "stream",
          "name": "stdout",
          "text": [
            "(7, 9, -4, -3, -9)\n",
            "(7, -4, 1, 2, -6)\n",
            "(-9, 1, 9, 11, -12)\n",
            "(-5, -2, -7, 3, 11)\n",
            "(-7, 7, -3, -6, 9)\n",
            "(3, -4, 2, -8, 7)\n",
            "(2, 11, -7, -12, 6)\n",
            "(1, 3, -8, -5, 9)\n",
            "(-4, 9, 1, -12, 6)\n",
            "(7, -8, 1, -6, 6)\n",
            "(9, -12, -5, 7, 1)\n",
            "(-4, -6, 7, 11, -8)\n",
            "(-5, 9, -3, 11, -12)\n",
            "(-3, 7, 3, 2, -9)\n",
            "(-12, 9, 11, -2, -6)\n",
            "(11, -3, 6, -8, -6)\n",
            "(-9, 11, 6, -3, -5)\n",
            "(9, -3, -9, -4, 7)\n",
            "(-9, 11, -6, 6, -2)\n",
            "(-5, 1, -12, 9, 7)\n",
            "(-3, 6, -2, -4, 3)\n",
            "(-3, 7, 1, 2, -7)\n",
            "(9, 3, 1, -9, -4)\n",
            "(7, -3, 6, -2, -8)\n",
            "(11, -3, -7, -4, 3)\n",
            "(-9, 1, 11, 3, -6)\n",
            "(6, -4, -6, 3, 1)\n",
            "(11, -7, -12, 6, 2)\n",
            "(9, 1, -5, 7, -12)\n",
            "(9, -4, 3, 1, -9)\n",
            "(-9, 7, -5, 1, 6)\n",
            "\n",
            "Total Sets:  31\n"
          ]
        }
      ]
    },
    {
      "cell_type": "markdown",
      "metadata": {
        "id": "stxrIcZtk4LT"
      },
      "source": [
        "---\n",
        "### **1.6 Complete Program with sorting**\n",
        "---"
      ]
    },
    {
      "cell_type": "code",
      "metadata": {
        "colab": {
          "base_uri": "https://localhost:8080/"
        },
        "outputId": "06685741-54c1-4606-a3c0-2b5533e9eba3",
        "id": "zzblepy0k4LU"
      },
      "source": [
        "#-------------------------------------------------------------\n",
        "# Step 1: Library inclusion\n",
        "#-------------------------------------------------------------\n",
        "import random as r\n",
        "\n",
        "\n",
        "#-------------------------------------------------------------\n",
        "# Step 2: Parameter Setting\n",
        "#-------------------------------------------------------------\n",
        "Set         = set([-12, -3, -6, 7, 2, -2, 6, 3, 9, -7, -5, -8, 1, 11, -9, -4])\n",
        "SetSize     = 5\n",
        "ResultList  = set()    # Store Result List i.e. list of sets whose sum is zero\n",
        "Iterations  = 1000   # Number of Inerations\n",
        "\n",
        "\n",
        "#-------------------------------------------------------------\n",
        "# Step3: Start Program\n",
        "#-------------------------------------------------------------\n",
        "\n",
        "# Loop till number of Iterations\n",
        "for i in range(Iterations):\n",
        "    # Select number of elements from Set\n",
        "    Chromosome = r.sample(Set,SetSize)\n",
        "    Chromosome.sort()\n",
        "\n",
        "    # Sum the number of elements in the Chromosome\n",
        "    if sum(Chromosome) == 0:\n",
        "        ResultList.add(tuple(Chromosome))\n",
        "\n",
        "# Print all the sets whose sum is zero\n",
        "for r in ResultList:\n",
        "\tprint (r)\n",
        "\n",
        "# Print total sets\n",
        "print (\"\\nTotal Sets: \", len(ResultList))\n"
      ],
      "execution_count": null,
      "outputs": [
        {
          "output_type": "stream",
          "name": "stdout",
          "text": [
            "(-7, -4, 2, 3, 6)\n",
            "(-7, -6, -5, 7, 11)\n",
            "(-9, -5, -3, 6, 11)\n",
            "(-7, -4, -3, 3, 11)\n",
            "(-6, -5, 1, 3, 7)\n",
            "(-12, -9, 3, 7, 11)\n",
            "(-8, -5, -2, 6, 9)\n",
            "(-9, -6, 2, 6, 7)\n",
            "(-9, -7, 3, 6, 7)\n",
            "(-12, -4, 2, 3, 11)\n",
            "(-7, -5, -2, 3, 11)\n",
            "(-8, -6, -4, 7, 11)\n",
            "(-8, -4, 2, 3, 7)\n",
            "(-8, -7, -3, 7, 11)\n",
            "(-9, -8, -3, 9, 11)\n",
            "(-7, -5, -3, 6, 9)\n",
            "(-9, -3, 2, 3, 7)\n",
            "(-5, -3, -2, 3, 7)\n",
            "(-9, -3, -2, 3, 11)\n",
            "(-12, -7, 3, 7, 9)\n",
            "\n",
            "Total Sets:  20\n"
          ]
        }
      ]
    },
    {
      "cell_type": "markdown",
      "metadata": {
        "id": "Kaevs6ROim18"
      },
      "source": [
        "---\n",
        "####**2. Problem Statement:**\n",
        "Find all the subsets from a set of numbers whose sum is zero.\n",
        "\n",
        "####**Constraint: Subset size must be 3 to 6 only**\n",
        "Set={-12, -3, -6, 7, 2, -2, 6, 3, 9, -7, -5, -8, 1, 11, -9, -4}\n",
        "\n",
        "---"
      ]
    },
    {
      "cell_type": "code",
      "metadata": {
        "colab": {
          "base_uri": "https://localhost:8080/"
        },
        "id": "XmPJbrOXim19",
        "outputId": "3d0b3e93-3257-4777-ba54-453ba4961f32"
      },
      "source": [
        "#-------------------------------------------------------------\n",
        "# Step 1: Library inclusion\n",
        "#-------------------------------------------------------------\n",
        "import random as r\n",
        "\n",
        "\n",
        "#-------------------------------------------------------------\n",
        "# Step 2: Parameter Setting\n",
        "#-------------------------------------------------------------\n",
        "Set         = set([-12, -3, -6, 7, 2, -2, 6, 3, 9, -7, -5, -8, 1, 11, -9, -4])\n",
        "SetLB       = 3\n",
        "SetUB       = 6\n",
        "ResultList  = set()    # Store Result List i.e. list of sets whose sum is zero\n",
        "Iterations  = 1000   # Number of Inerations\n",
        "\n",
        "\n",
        "#-------------------------------------------------------------\n",
        "# Step3: Start Program\n",
        "#-------------------------------------------------------------\n",
        "\n",
        "# Loop till number of Iterations\n",
        "for i in range(Iterations):\n",
        "    # Select set size randomly\n",
        "    SetSize = r.randint(SetLB,SetUB)\n",
        "\n",
        "    # Select number of elements from Set\n",
        "    Chromosome = r.sample(Set,SetSize)\n",
        "    Chromosome.sort()\n",
        "\n",
        "    # Sum the number of elements in the Chromosome\n",
        "    if sum(Chromosome) == 0:\n",
        "        ResultList.add(tuple(Chromosome))\n",
        "\n",
        "# Print all the sets whose sum is zero\n",
        "for r in ResultList:\n",
        "\tprint (r)\n",
        "\n",
        "# Print total sets\n",
        "print (\"\\nTotal Sets: \", len(ResultList))\n"
      ],
      "execution_count": null,
      "outputs": [
        {
          "output_type": "stream",
          "name": "stdout",
          "text": [
            "(-5, 2, 3)\n",
            "(-5, -4, -3, 2, 3, 7)\n",
            "(-12, -5, -3, 9, 11)\n",
            "(-8, -4, -3, 2, 6, 7)\n",
            "(-8, -4, 1, 11)\n",
            "(-9, -7, 2, 3, 11)\n",
            "(-4, 1, 3)\n",
            "(-9, -8, -7, 6, 7, 11)\n",
            "(-12, 3, 9)\n",
            "(-9, -7, -6, 6, 7, 9)\n",
            "(-9, -4, 2, 11)\n",
            "(-12, -2, 2, 3, 9)\n",
            "(-7, -4, 2, 9)\n",
            "(-9, -3, 3, 9)\n",
            "\n",
            "Total Sets:  14\n"
          ]
        }
      ]
    }
  ]
}